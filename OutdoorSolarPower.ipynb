{
 "cells": [
  {
   "cell_type": "markdown",
   "id": "fed39f52-7fb6-4c45-bc3c-d701a09f0f4d",
   "metadata": {},
   "source": [
    "# Introduction\n",
    "This project aims at designing a system to power backyard activities (night lighting, computer) using solar energy. Additionnally if an reasonable optimization point can  be achieved (to be determined), it should double down as a home back-up power system.\n",
    " "
   ]
  },
  {
   "cell_type": "markdown",
   "id": "670f9135-8057-42e3-b060-de4ee395346e",
   "metadata": {},
   "source": [
    "## Design"
   ]
  },
  {
   "cell_type": "markdown",
   "id": "262d8772-ef6f-44f0-862c-5b67e14a70d8",
   "metadata": {},
   "source": [
    "### Requirements\n",
    "\n",
    "| ID    | Requirement Text | Rationale\n",
    "| -------- | ------- | ------- |\n",
    "| OSP_1  | The system ** shall ** be able to power the loads to table 1 during all Montreal Summer day  | * The primary goal of the system is to serve as a power source in summer for outdoor activities*|\n",
    "| OSP_2 | The system ** shall ** be portable  | *the system will be installed outside in summer, however, it needs to remain portable in order to be de-commissioned in winter and to be used as a home power back up solution at all times*  |\n",
    "| OSP_3   | The system ** should ** be able to power the loads to table 2 during 8 hours   | *as a secondary goal, the system could be used as a back up power source for selected devices during black outs.*  |\n",
    "| OSP_4 | The system ** shall ** be safe at all time  | *In general, any risk of failure leading to property damage or health hazard shall be mitigated*  |\n",
    "| OSP_5 | The system ** shall ** be rechargeable using a 110V stand power outlet if necessary | *If the battery is empty, it shall be possible to charge the battery without sun*  |\n",
    "| OSP_6 | The system ** shall ** provide the user with the battery charge state at all time | *User need to know if battery is getting empty *  |\n",
    "| OSP_7 | The system ** should ** provide the user with the battery state | *User need to know the batter state*  |"
   ]
  },
  {
   "cell_type": "markdown",
   "id": "ad087c66-cd66-4855-beae-b39bf321232d",
   "metadata": {},
   "source": [
    "### Requirements Analysis"
   ]
  },
  {
   "cell_type": "markdown",
   "id": "c0c6fa55-df0f-43a2-a7f9-6a84f5eb7ce6",
   "metadata": {},
   "source": [
    "#### OSP_1 Analysis"
   ]
  },
  {
   "cell_type": "markdown",
   "id": "216fabe0-9bce-473f-b1ad-7a0083948a00",
   "metadata": {},
   "source": [
    "#### OSP_2 Analysis"
   ]
  },
  {
   "cell_type": "markdown",
   "id": "769ef003-e1f2-475e-ba8b-63094c68cd02",
   "metadata": {},
   "source": [
    "#### OSP_3 Analysis"
   ]
  },
  {
   "cell_type": "markdown",
   "id": "b2b5b7de-4cf0-457a-bb56-e188f01118db",
   "metadata": {},
   "source": [
    "#### OSP_4 Analysis"
   ]
  },
  {
   "cell_type": "markdown",
   "id": "ecdcaf1f-9751-443f-ac49-38c65744e051",
   "metadata": {},
   "source": [
    "#### OSP_5 Analysis"
   ]
  },
  {
   "cell_type": "markdown",
   "id": "5dc410cc-8296-4b0e-8f9c-23dec16eef57",
   "metadata": {},
   "source": [
    "#### OSP_6 Analysis"
   ]
  },
  {
   "cell_type": "markdown",
   "id": "5e2578de-cca3-4324-a7f1-332ec8ce893b",
   "metadata": {},
   "source": [
    "#### OSP_7 Analysis"
   ]
  },
  {
   "cell_type": "markdown",
   "id": "6eeb3079-ceb3-4831-bd56-c963ba1debc5",
   "metadata": {},
   "source": [
    "### System Parameters\n",
    "#### Keys\n",
    "| Index    | Component | Parameter  | Value  | Comment \n",
    "| -------- | ------- | ------- |------- |------- |\n",
    "| 1 | Solar Panel | Voltage |TODO V| N/A |\n",
    "| 2 | Solar Panel | Wattage |TODO W| N/A |\n",
    "| 3 | Battery | Capacity  |TODO amp/hour| N/A |\n",
    "| 4 | Battery | Peak Power Output | kWp | N/A |\n",
    "| 4 | Battery | Chemistry| TODO  | N/A |\n",
    "| 5 | Battery Management System | TODO  |TODO amp/hour| N/A |\n",
    "| 6 | Inverter | Peak Power Output | kWp | N/A |\n",
    "\n",
    "###Secondary\n",
    "\n",
    "Battery lifespan and charge/discharge cycles\n",
    "Round-trip efficiency"
   ]
  }
 ],
 "metadata": {
  "kernelspec": {
   "display_name": "Python 3 (ipykernel)",
   "language": "python",
   "name": "python3"
  },
  "language_info": {
   "codemirror_mode": {
    "name": "ipython",
    "version": 3
   },
   "file_extension": ".py",
   "mimetype": "text/x-python",
   "name": "python",
   "nbconvert_exporter": "python",
   "pygments_lexer": "ipython3",
   "version": "3.11.6"
  }
 },
 "nbformat": 4,
 "nbformat_minor": 5
}

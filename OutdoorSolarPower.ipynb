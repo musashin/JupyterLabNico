{
 "cells": [
  {
   "cell_type": "markdown",
   "id": "57766e9e-571c-483d-b661-de698f80f26e",
   "metadata": {},
   "source": [
    "# Introduction\n",
    "This project aims at designing a system to power backyard activities (night lighting, computer) using solar energy. Additionnally if an reasonable optimization point can  be achieved (to be determined), it should double down as a home back-up power system.\n",
    " "
   ]
  },
  {
   "cell_type": "markdown",
   "id": "670f9135-8057-42e3-b060-de4ee395346e",
   "metadata": {},
   "source": [
    "## Design"
   ]
  },
  {
   "cell_type": "markdown",
   "id": "262d8772-ef6f-44f0-862c-5b67e14a70d8",
   "metadata": {},
   "source": [
    "### Requirements\n",
    "\n",
    "| ID    | Requirement Text | Rationale\n",
    "| -------- | ------- | ------- |\n",
    "| OSP_1  | The system ** shall ** be able to power the loads to table 1 during all Montreal Summer day  | * The primary goal of the system is to serve as a power source in summer for outdoor activities*|\n",
    "| OSP_2 | The system ** shall ** be portable  | *the system will be installed outside in summer, however, it needs to remain portable in order to be de-commissioned in winter and to be used as a home power back up solution at all times*  |\n",
    "| OSP_3   | The system ** should ** be able to power the loads to table 2 during 8 hours   | *as a secondary goal, the system could be used as a back up power source for selected devices during black outs.*  |\n",
    "| OSP_4 | The system ** shall ** be safe at all time  | *In general, any risk of failure leading to property damage or health hazard shall be mitigated*  |\n",
    "| OSP_5 | The system ** shall ** be rechargeable using a 110V stand power outlet if necessary | *If the battery is empty, it shall be possible to charge the battery without sun*  |\n",
    "| OSP_6 | The system ** shall ** provide the battery charge state at all time | *If the battery is empty, it shall be possible to charge the battery without sun*  |"
   ]
  },
  {
   "cell_type": "code",
   "execution_count": null,
   "id": "ff6f436a-f094-4d26-92d8-d6e2edd46798",
   "metadata": {},
   "outputs": [],
   "source": []
  }
 ],
 "metadata": {
  "kernelspec": {
   "display_name": "Python 3 (ipykernel)",
   "language": "python",
   "name": "python3"
  },
  "language_info": {
   "codemirror_mode": {
    "name": "ipython",
    "version": 3
   },
   "file_extension": ".py",
   "mimetype": "text/x-python",
   "name": "python",
   "nbconvert_exporter": "python",
   "pygments_lexer": "ipython3",
   "version": "3.11.6"
  }
 },
 "nbformat": 4,
 "nbformat_minor": 5
}

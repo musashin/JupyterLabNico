{
 "cells": [
  {
   "cell_type": "markdown",
   "id": "57766e9e-571c-483d-b661-de698f80f26e",
   "metadata": {},
   "source": [
    "# Introduction\n",
    "This project aims at designing a system to power backyard activities (night lighting, computer) using solar energy. Additionnally if an reasonable optimization point can  be achieved (to be determined), it should double down as a home back-up power system.\n",
    " "
   ]
  }
 ],
 "metadata": {
  "kernelspec": {
   "display_name": "Python 3 (ipykernel)",
   "language": "python",
   "name": "python3"
  },
  "language_info": {
   "codemirror_mode": {
    "name": "ipython",
    "version": 3
   },
   "file_extension": ".py",
   "mimetype": "text/x-python",
   "name": "python",
   "nbconvert_exporter": "python",
   "pygments_lexer": "ipython3",
   "version": "3.11.6"
  }
 },
 "nbformat": 4,
 "nbformat_minor": 5
}
